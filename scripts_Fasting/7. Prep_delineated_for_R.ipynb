{
 "cells": [
  {
   "metadata": {},
   "cell_type": "code",
   "source": [
    "import anndata as ad\n",
    "import os"
   ],
   "id": "e60912685372cd53",
   "outputs": [],
   "execution_count": null
  },
  {
   "metadata": {},
   "cell_type": "code",
   "source": [
    "file_basenames = ['AL1', 'AL2', 'Fast1', 'Fast2']\n",
    "\n",
    "for name in file_basenames:\n",
    "    input_file = f\"{name}_16_adata.h5ad\"\n",
    "    output_file = f\"{name}_adataforR.h5ad\"\n",
    "\n",
    "    print(f\"--- Processing: {input_file} ---\")\n",
    "\n",
    "    adata = ad.read_h5ad(input_file)\n",
    "    spatial_key = list(adata.uns['spatial'].keys())[0]\n",
    "    print(f\"The spatial key is: {spatial_key}\")\n",
    "\n",
    "    adata.obs['library_id'] = spatial_key\n",
    "    print(\"'library_id' added.\")\n",
    "\n",
    "    adata.write_h5ad(output_file)\n",
    "    print(f\"save to: {output_file}\\n\")\n",
    "\n",
    "print(\"--- All processed. ---\")"
   ],
   "id": "7082e70b7c82b7a2",
   "outputs": [],
   "execution_count": null
  }
 ],
 "metadata": {
  "kernelspec": {
   "display_name": "Python 3",
   "language": "python",
   "name": "python3"
  },
  "language_info": {
   "codemirror_mode": {
    "name": "ipython",
    "version": 2
   },
   "file_extension": ".py",
   "mimetype": "text/x-python",
   "name": "python",
   "nbconvert_exporter": "python",
   "pygments_lexer": "ipython2",
   "version": "2.7.6"
  }
 },
 "nbformat": 4,
 "nbformat_minor": 5
}
