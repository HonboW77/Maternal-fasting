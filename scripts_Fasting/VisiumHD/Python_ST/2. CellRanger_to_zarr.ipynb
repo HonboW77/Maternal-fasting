{
 "cells": [
  {
   "cell_type": "code",
   "id": "initial_id",
   "metadata": {
    "collapsed": true
   },
   "source": [
    "import numpy as np\n",
    "import pandas as pd\n",
    "import spatialdata as sd\n",
    "from geopandas import GeoDataFrame\n",
    "from shapely import Polygon\n",
    "from spatialdata.models import ShapesModel\n",
    "from spatialdata.transformations import Identity\n",
    "import os\n",
    "import spatialdata_plot\n",
    "import spatialdata_io\n",
    "\n",
    "# from napari_spatialdata import Interactive"
   ],
   "outputs": [],
   "execution_count": null
  },
  {
   "metadata": {},
   "cell_type": "code",
   "source": [
    "base_path = r\"D:\\Spacial RNA\\Spaceranger\"\n",
    "for folder_name in os.listdir(base_path):\n",
    "    sample_path = os.path.join(base_path, folder_name)\n",
    "\n",
    "    sdata = spatialdata_io.visium_hd(\n",
    "        path=sample_path,\n",
    "        bin_size=16,\n",
    "        dataset_id=folder_name\n",
    "    )\n",
    "\n",
    "    sdata.write(f\"{folder_name}_16um.zarr\")"
   ],
   "id": "595fe23b44d47b9d",
   "outputs": [],
   "execution_count": null
  }
 ],
 "metadata": {
  "kernelspec": {
   "display_name": "Python 3",
   "language": "python",
   "name": "python3"
  },
  "language_info": {
   "codemirror_mode": {
    "name": "ipython",
    "version": 2
   },
   "file_extension": ".py",
   "mimetype": "text/x-python",
   "name": "python",
   "nbconvert_exporter": "python",
   "pygments_lexer": "ipython2",
   "version": "2.7.6"
  }
 },
 "nbformat": 4,
 "nbformat_minor": 5
}
