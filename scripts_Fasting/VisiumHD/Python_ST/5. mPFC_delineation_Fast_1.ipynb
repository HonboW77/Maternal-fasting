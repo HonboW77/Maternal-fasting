{
 "cells": [
  {
   "cell_type": "code",
   "id": "initial_id",
   "metadata": {
    "collapsed": true
   },
   "source": [
    "import numpy as np\n",
    "import pandas as pd\n",
    "import spatialdata as sd\n",
    "from geopandas import GeoDataFrame\n",
    "from shapely import Polygon\n",
    "from spatialdata.models import ShapesModel\n",
    "from spatialdata.transformations import Identity\n",
    "import os\n",
    "import spatialdata_plot\n",
    "import spatialdata_io\n",
    "from napari_spatialdata import Interactive"
   ],
   "outputs": [],
   "execution_count": null
  },
  {
   "metadata": {},
   "cell_type": "code",
   "source": [
    "Fast1 = sd.read_zarr(\"10W_FAST_1_9_16um.zarr\")\n",
    "print(any(Fast1.tables['square_016um'].var_names.duplicated()))"
   ],
   "id": "a76f5aa40bdecc5e",
   "outputs": [],
   "execution_count": null
  },
  {
   "metadata": {},
   "cell_type": "code",
   "source": [
    "viewer = Interactive(Fast1)\n",
    "viewer.run()"
   ],
   "id": "49a9aa04e847dee0",
   "outputs": [],
   "execution_count": null
  },
  {
   "metadata": {},
   "cell_type": "code",
   "source": "Fast1.shapes[\"mPFC\"].geometry.iloc[0]",
   "id": "1fc0aae2576bbb48",
   "outputs": [],
   "execution_count": null
  },
  {
   "metadata": {},
   "cell_type": "code",
   "source": [
    "shape_names = list(Fast1.shapes.keys())\n",
    "print(shape_names)"
   ],
   "id": "1f56fe5defb8ecda",
   "outputs": [],
   "execution_count": null
  },
  {
   "metadata": {},
   "cell_type": "code",
   "source": [
    "from spatialdata import polygon_query\n",
    "\n",
    "sdata = Fast1\n",
    "shape_to_query = 'mPFC'\n",
    "target_coordinate_system = '10W_FAST_1_9'\n",
    "\n",
    "\n",
    "polygon = sdata.shapes[shape_to_query].geometry.iloc[0]\n",
    "query_result = polygon_query(\n",
    "    sdata,\n",
    "    polygon=polygon,\n",
    "    target_coordinate_system= target_coordinate_system\n",
    ")\n",
    "\n",
    "cells_inside = query_result['square_016um']\n",
    "print(f\"in '{shape_to_query}' cells: {len(cells_inside)}\")\n",
    "\n",
    "sdata['square_016um'].obs['annotation'] = 'unassigned'\n",
    "in_mPFC = cells_inside.obs.index\n",
    "\n",
    "sdata['square_016um'].obs.loc[in_mPFC, 'annotation'] = shape_to_query\n",
    "\n",
    "print(\"\\n sum:\")\n",
    "print(sdata['square_016um'].obs['annotation'].value_counts())"
   ],
   "id": "29426f6978b549e6",
   "outputs": [],
   "execution_count": null
  },
  {
   "metadata": {},
   "cell_type": "code",
   "source": [
    "import matplotlib.pyplot as plt\n",
    "\n",
    "plt.figure(figsize=(12, 10))\n",
    "ax = plt.gca()\n",
    "\n",
    "sdata.pl.render_images(\n",
    "    '10W_FAST_1_9_lowres_image'\n",
    ").pl.render_shapes(\n",
    "    '10W_FAST_1_9_square_016um',\n",
    "    color='annotation'\n",
    ").pl.show(\n",
    "    coordinate_systems='10W_FAST_1_9',\n",
    "    ax=ax\n",
    ")\n",
    "\n",
    "plt.show()"
   ],
   "id": "62b83ad85c435a57",
   "outputs": [],
   "execution_count": null
  },
  {
   "metadata": {},
   "cell_type": "code",
   "source": [
    "from spatialdata_io.experimental import to_legacy_anndata\n",
    "\n",
    "Fast1_adata = to_legacy_anndata(\n",
    "    sdata=sdata,\n",
    "    coordinate_system='10W_FAST_1_9',\n",
    "    table_name='square_016um',\n",
    "    include_images=True\n",
    ")\n",
    "print(Fast1_adata)"
   ],
   "id": "9cf563d4f7b5e5ff",
   "outputs": [],
   "execution_count": null
  },
  {
   "metadata": {},
   "cell_type": "code",
   "source": [
    "mask = Fast1_adata.obs['annotation'] == 'mPFC'\n",
    "Fast1_adata = Fast1_adata[mask].copy()\n",
    "\n",
    "print(mask.sum(), \"spots kept\")"
   ],
   "id": "5e4e913a35b219b9",
   "outputs": [],
   "execution_count": null
  },
  {
   "metadata": {},
   "cell_type": "code",
   "source": [
    "\n",
    "Fast1_adata.write_h5ad(\"Fast1_16um_mPFC_adata.h5ad\")"
   ],
   "id": "c58648635916e18c",
   "outputs": [],
   "execution_count": null
  }
 ],
 "metadata": {
  "kernelspec": {
   "display_name": "Python 3",
   "language": "python",
   "name": "python3"
  },
  "language_info": {
   "codemirror_mode": {
    "name": "ipython",
    "version": 2
   },
   "file_extension": ".py",
   "mimetype": "text/x-python",
   "name": "python",
   "nbconvert_exporter": "python",
   "pygments_lexer": "ipython2",
   "version": "2.7.6"
  }
 },
 "nbformat": 4,
 "nbformat_minor": 5
}
